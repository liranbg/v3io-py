{
 "cells": [
  {
   "cell_type": "markdown",
   "metadata": {},
   "source": [
    "# Using the Platform's Control Plane API"
   ]
  },
  {
   "cell_type": "markdown",
   "metadata": {},
   "source": [
    "The platform's Control Plane provides access to the cluster-management using REST APIs. Using CRUD-like http client, you will be able to get, list, create, update and delete resources and trigger operations against the Iguazio System.\n"
   ]
  },
  {
   "cell_type": "markdown",
   "metadata": {},
   "source": [
    "## Initialize"
   ]
  },
  {
   "cell_type": "code",
   "execution_count": null,
   "metadata": {},
   "outputs": [],
   "source": [
    "import v3io.controlplane"
   ]
  },
  {
   "cell_type": "markdown",
   "metadata": {},
   "source": [
    "Create a control plane client"
   ]
  },
  {
   "cell_type": "code",
   "execution_count": null,
   "metadata": {},
   "outputs": [],
   "source": [
    "client = v3io.controlplane.Client(endpoint=\"dashboard.default-tenant.app.iguazio.com\",\n",
    "                                  username=\"some-admin\",\n",
    "                                  access_key=\"some-access-id\")"
   ]
  },
  {
   "cell_type": "markdown",
   "metadata": {},
   "source": [
    ">\n",
    "> **Note**: If no endpoint or username arguments are given, both would be resolved from OS environment variables.\n",
    "> `username` from `V3IO_USERNAME` and `endpoint` from `V3IO_API`.\n",
    ">\n",
    "> **Note**: You can also use your password to authenticate against the management API, e.g.:\n",
    ">\n",
    "```python\n",
    "import v3io.controlplane\n",
    "client = v3io.controlplane.Client(endpoint='https://dashboard.default-tenant.app.mysys.iguazio.com/',\n",
    "                                  username=\"someone\",\n",
    "                                  password=\"my-pass\")\n",
    "await client.login()\n",
    "```\n",
    ">\n",
    "> But know that you would be required to log in immediately after.\n",
    ">\n",
    "> **Note**: You can get the access key from the platform dashboard: select the user-profile picture or icon from the top right corner of any page, and select **Access Keys** from the menu. In the **Access Keys** window, either copy an existing access key or create a new\n",
    "> key (*Make sure you assign it with control plane) and copy it.\n",
    ">\n",
    "> When running python code on local machine that connects to a remote Iguazio platform, you can obtain the URL of your cluster by copying the API URL.\n"
   ]
  },
  {
   "cell_type": "markdown",
   "metadata": {},
   "source": [
    "## RESTful API\n",
    "\n",
    "Most of the resources support all CRUD methods. Some endpoints within the management API are considered \"operations\", which means\n",
    "the response may not represent a resource. Some operations are long-living, which means a background job is created whereas the response will hold its id.\n",
    "\n",
    "To differentiate between a long-living task to a immediate action, it is either up to the user to validate the response and see if it holds a job_id, or, using the SDK, to indicate whether it should wait for the job to be finished.\n",
    "\n",
    "To create a resource, we will use the `crud` module and its `.create()` method while providing the mandatory fields with it."
   ]
  },
  {
   "cell_type": "markdown",
   "metadata": {},
   "source": [
    "### Users API\n",
    "#### Creating a user\n",
    "\n",
    "An example of creating a user with default assigned policies (Developer, Application Read Only). to set different policies,\n",
    "override the `create` arg - `assigned_policies` with any default of `v3io.controlplane.constants.TenantManagementRoles` enum."
   ]
  },
  {
   "cell_type": "code",
   "execution_count": null,
   "outputs": [],
   "source": [
    "new_user = await v3io.controlplane.User.create(client,\n",
    "                                               username=\"anewuser\",\n",
    "                                               password=\"rePlaceme12@!\",\n",
    "                                               email=\"user@iguazio.com\",\n",
    "                                               first_name=\"someone\",\n",
    "                                               last_name=\"fromthepast\")\n",
    "print(new_user.id)"
   ],
   "metadata": {
    "collapsed": false
   }
  },
  {
   "cell_type": "markdown",
   "metadata": {},
   "source": [
    "#### Get self user\n",
    "Getting the user object correlated to the HTTP Client created above."
   ]
  },
  {
   "cell_type": "code",
   "execution_count": null,
   "metadata": {},
   "outputs": [],
   "source": [
    "running_user = await v3io.controlplane.User.self(client)\n",
    "print(f\"The client's username is {running_user.username}\")"
   ]
  },
  {
   "cell_type": "markdown",
   "source": [
    "#### Update user\n",
    "An examples of updating a user attribute, such as its last name."
   ],
   "metadata": {
    "collapsed": false
   }
  },
  {
   "cell_type": "code",
   "execution_count": null,
   "outputs": [],
   "source": [
    "new_user.last_name = \"my name lastname\"\n",
    "new_user = await new_user.update(client)\n",
    "print(f\"Updated lastname: {new_user.last_name}\")"
   ],
   "metadata": {
    "collapsed": false
   }
  },
  {
   "cell_type": "markdown",
   "source": [
    "#### List users\n",
    "An examples of listing users"
   ],
   "metadata": {
    "collapsed": false
   }
  },
  {
   "cell_type": "code",
   "execution_count": null,
   "outputs": [],
   "source": [
    "# list all users\n",
    "users = await v3io.controlplane.User.list(client)\n",
    "for user in users:\n",
    "    print(f\"ID: {user.id}, First Name: {user.first_name}\")\n",
    "\n",
    "# list users, filter by their first_name attribute\n",
    "some_users = await v3io.controlplane.User.list(client, filter_by={\"first_name\": \"someone\"})\n",
    "print(f\"ID: {some_users[0].id}\")"
   ],
   "metadata": {
    "collapsed": false
   }
  },
  {
   "cell_type": "markdown",
   "source": [
    "### Change user groups\n",
    "An example of adding / removing a user from a group"
   ],
   "metadata": {
    "collapsed": false
   }
  },
  {
   "cell_type": "code",
   "execution_count": null,
   "outputs": [],
   "source": [
    "# get or create user group\n",
    "user_groups = await v3io.controlplane.UserGroup.list(client, filter_by={\"name\":\"random-people\"})\n",
    "if user_groups:\n",
    "    user_group = user_groups[0]\n",
    "else:\n",
    "    user_group = await v3io.controlplane.UserGroup.create(client, name=\"random-people\")\n",
    "\n",
    "# add user to group\n",
    "await new_user.add_to_group(client, user_group.id)\n",
    "\n",
    "# get the group with its users\n",
    "user_group = await v3io.controlplane.UserGroup.get(client, user_group.id, include=[\"users\"])\n",
    "\n",
    "# make sure we see the user in user group users\n",
    "found = len(list(filter(lambda user: user[\"id\"] == new_user.id, user_group.relationships.get(\"users\").get(\"data\")))) > 0\n",
    "print(\"User was added: \" + str(found))\n",
    "\n",
    "# remove user from group\n",
    "await new_user.remove_from_group(client, user_group.id)"
   ],
   "metadata": {
    "collapsed": false
   }
  },
  {
   "cell_type": "markdown",
   "source": [
    ">\n",
    "> **Notes**:\n",
    ">  - To list resources and filtering by a field, we will use `filter_by={\"fieldname\": \"fieldvalue\"}`\n",
    ">  - To include a resource related to another (e.g.: user group includes users), we will use `include=[\"users\"]` when we `.get()` the group. This is not mandatory.\n",
    ">"
   ],
   "metadata": {
    "collapsed": false
   }
  },
  {
   "cell_type": "markdown",
   "source": [
    "#### Delete user\n",
    "An example of deleting a user,"
   ],
   "metadata": {
    "collapsed": false
   }
  },
  {
   "cell_type": "code",
   "execution_count": null,
   "outputs": [],
   "source": [
    "await new_user.delete(client, ignore_missing=False)"
   ],
   "metadata": {
    "collapsed": false
   }
  }
 ],
 "metadata": {
  "kernelspec": {
   "display_name": "Python 3 (ipykernel)",
   "language": "python",
   "name": "python3"
  },
  "language_info": {
   "codemirror_mode": {
    "name": "ipython",
    "version": 3
   },
   "file_extension": ".py",
   "mimetype": "text/x-python",
   "name": "python",
   "nbconvert_exporter": "python",
   "pygments_lexer": "ipython3",
   "version": "3.8.14"
  },
  "vscode": {
   "interpreter": {
    "hash": "916dbcbb3f70747c44a77c7bcd40155683ae19c65e1c03b4aa3499c5328201f1"
   }
  }
 },
 "nbformat": 4,
 "nbformat_minor": 4
}
